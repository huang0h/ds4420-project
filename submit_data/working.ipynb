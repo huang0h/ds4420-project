{
 "cells": [
  {
   "cell_type": "code",
   "execution_count": 2,
   "metadata": {},
   "outputs": [],
   "source": [
    "import pandas as pd\n",
    "import numpy as np\n",
    "\n",
    "import csv, os, json"
   ]
  },
  {
   "cell_type": "code",
   "execution_count": 3,
   "metadata": {},
   "outputs": [],
   "source": [
    "with open('../rawdata/msd_subset_audio_features_normalized.json', 'r') as f:\n",
    "    all_track_features = json.load(f)\n",
    "    \n",
    "# From unzipping rawdata/msd_user_setlists_data.zip\n",
    "with open('../rawdata/msd_user_setlists.json', 'r') as f:\n",
    "    user_setlists = json.load(f)\n",
    "    \n",
    "# From unzipping rawdata/msd_average_user_profiles_data.zip\n",
    "with open('../rawdata/msd_average_user_profiles.json', 'r') as f:\n",
    "    average_user_profiles = json.load(f)"
   ]
  },
  {
   "cell_type": "code",
   "execution_count": 5,
   "metadata": {},
   "outputs": [
    {
     "data": {
      "text/html": [
       "<div>\n",
       "<style scoped>\n",
       "    .dataframe tbody tr th:only-of-type {\n",
       "        vertical-align: middle;\n",
       "    }\n",
       "\n",
       "    .dataframe tbody tr th {\n",
       "        vertical-align: top;\n",
       "    }\n",
       "\n",
       "    .dataframe thead th {\n",
       "        text-align: right;\n",
       "    }\n",
       "</style>\n",
       "<table border=\"1\" class=\"dataframe\">\n",
       "  <thead>\n",
       "    <tr style=\"text-align: right;\">\n",
       "      <th></th>\n",
       "      <th>Unnamed: 0</th>\n",
       "      <th>user</th>\n",
       "      <th>track</th>\n",
       "      <th>count</th>\n",
       "    </tr>\n",
       "  </thead>\n",
       "  <tbody>\n",
       "    <tr>\n",
       "      <th>0</th>\n",
       "      <td>116</td>\n",
       "      <td>0ef42a19efb74d0a05c308d00636c8d8d41bec0c</td>\n",
       "      <td>TRBHLDQ128F423EF10</td>\n",
       "      <td>2</td>\n",
       "    </tr>\n",
       "    <tr>\n",
       "      <th>1</th>\n",
       "      <td>139</td>\n",
       "      <td>537340ff896dea11328910013cfe759413e1eeb3</td>\n",
       "      <td>TRARUTP128E0797FC7</td>\n",
       "      <td>1</td>\n",
       "    </tr>\n",
       "    <tr>\n",
       "      <th>2</th>\n",
       "      <td>166</td>\n",
       "      <td>999902c7302ca251b23f5c0d643debce084076d3</td>\n",
       "      <td>TRBGQAB128E07877E4</td>\n",
       "      <td>1</td>\n",
       "    </tr>\n",
       "    <tr>\n",
       "      <th>3</th>\n",
       "      <td>222</td>\n",
       "      <td>2d4df82baf7a0c2f39706a40c25f96fa0c61ef19</td>\n",
       "      <td>TRAAKDG128F42A0ECB</td>\n",
       "      <td>2</td>\n",
       "    </tr>\n",
       "    <tr>\n",
       "      <th>4</th>\n",
       "      <td>230</td>\n",
       "      <td>e6fbcdd689ac0e85992536933f1f86503310447f</td>\n",
       "      <td>TRADKAX128E0786B92</td>\n",
       "      <td>1</td>\n",
       "    </tr>\n",
       "  </tbody>\n",
       "</table>\n",
       "</div>"
      ],
      "text/plain": [
       "   Unnamed: 0                                      user               track  \\\n",
       "0         116  0ef42a19efb74d0a05c308d00636c8d8d41bec0c  TRBHLDQ128F423EF10   \n",
       "1         139  537340ff896dea11328910013cfe759413e1eeb3  TRARUTP128E0797FC7   \n",
       "2         166  999902c7302ca251b23f5c0d643debce084076d3  TRBGQAB128E07877E4   \n",
       "3         222  2d4df82baf7a0c2f39706a40c25f96fa0c61ef19  TRAAKDG128F42A0ECB   \n",
       "4         230  e6fbcdd689ac0e85992536933f1f86503310447f  TRADKAX128E0786B92   \n",
       "\n",
       "   count  \n",
       "0      2  \n",
       "1      1  \n",
       "2      1  \n",
       "3      2  \n",
       "4      1  "
      ]
     },
     "execution_count": 5,
     "metadata": {},
     "output_type": "execute_result"
    }
   ],
   "source": [
    "interactions_subset = pd.read_csv('sampled_interactions.csv')\n",
    "interactions_subset.head()"
   ]
  },
  {
   "cell_type": "code",
   "execution_count": 9,
   "metadata": {},
   "outputs": [
    {
     "data": {
      "text/plain": [
       "(1000, 384)"
      ]
     },
     "execution_count": 9,
     "metadata": {},
     "output_type": "execute_result"
    }
   ],
   "source": [
    "all_users = list(interactions_subset['user'].unique())\n",
    "all_tracks = list(interactions_subset['track'].unique())\n",
    "\n",
    "len(all_users), len(all_tracks)"
   ]
  },
  {
   "cell_type": "code",
   "execution_count": 12,
   "metadata": {},
   "outputs": [],
   "source": [
    "track_features_subset = {track: all_track_features[track] for track in all_tracks}\n",
    "user_setlists_subset = {user: user_setlists[user] for user in all_users}\n",
    "profiles_subset = {user: average_user_profiles[user] for user in all_users}"
   ]
  },
  {
   "cell_type": "code",
   "execution_count": 16,
   "metadata": {},
   "outputs": [],
   "source": [
    "with open('msd_subset_audio_features_normalized.json', 'w') as f:\n",
    "    json.dump(track_features_subset, f)\n",
    "    \n",
    "with open('msd_user_setlists.json', 'w') as f:\n",
    "    json.dump(user_setlists_subset, f)\n",
    "\n",
    "with open('msd_average_user_profiles.json', 'w') as f:\n",
    "    json.dump(profiles_subset, f)"
   ]
  },
  {
   "cell_type": "code",
   "execution_count": 19,
   "metadata": {},
   "outputs": [],
   "source": [
    "d = {}\n",
    "for user, setlist in user_setlists_subset.items():\n",
    "    tracks = [{'track': track, 'count': count} for track, count in setlist.items()]\n",
    "    d[user] = tracks"
   ]
  },
  {
   "cell_type": "code",
   "execution_count": 21,
   "metadata": {},
   "outputs": [],
   "source": [
    "with open('msd_taste_profile_cleaned.json', 'w') as f:\n",
    "    json.dump(d, f)"
   ]
  }
 ],
 "metadata": {
  "kernelspec": {
   "display_name": "3.11",
   "language": "python",
   "name": "python3"
  },
  "language_info": {
   "codemirror_mode": {
    "name": "ipython",
    "version": 3
   },
   "file_extension": ".py",
   "mimetype": "text/x-python",
   "name": "python",
   "nbconvert_exporter": "python",
   "pygments_lexer": "ipython3",
   "version": "3.10.13"
  }
 },
 "nbformat": 4,
 "nbformat_minor": 2
}
