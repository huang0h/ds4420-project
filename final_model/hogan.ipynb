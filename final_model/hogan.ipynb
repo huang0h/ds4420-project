{
 "cells": [
  {
   "cell_type": "code",
   "execution_count": 1,
   "metadata": {},
   "outputs": [],
   "source": [
    "import json\n",
    "import numpy as np"
   ]
  },
  {
   "cell_type": "code",
   "execution_count": null,
   "metadata": {},
   "outputs": [],
   "source": [
    "class HybridCF:\n",
    "    def __init__(self, source: str):\n",
    "        USER_SIM_FILE = 'user_similarity.npy'\n",
    "        SUBSET_INDEX_MAPPING_FILE = 'subset_index_mapping.json'\n",
    "        USER_NEIGHBORHOODS_FILE = 'user_neighborhoods.json'\n",
    "    \n",
    "        # You'll want to create a folder called `saved_models` in this folder,\n",
    "        # then put the model feature files in that folder.\n",
    "        # They should have the names of the files above.\n",
    "        dirname = f'saved_models/{source}'\n",
    "        sims = np.load(f'{dirname}/{USER_SIM_FILE}')\n",
    "        \n",
    "        with open(f'{dirname}/{SUBSET_INDEX_MAPPING_FILE}', 'r') as f:\n",
    "            index_map = json.load(f)\n",
    "        \n",
    "        with open(f'{dirname}/{USER_NEIGHBORHOODS_FILE}', 'r') as f:\n",
    "            neighborhoods = json.load(f)\n",
    "            \n",
    "        # From unzipping rawdata/msd_subset_audio_features_normalized_data.zip\n",
    "        with open('../rawdata/msd_subset_audio_features_normalized.json', 'r') as f:\n",
    "            all_track_features = json.load(f)\n",
    "            \n",
    "        # From unzipping rawdata/msd_user_setlists_data.zip\n",
    "        with open('../rawdata/msd_user_setlists.json', 'r') as f:\n",
    "            user_setlists = json.load(f)\n",
    "            \n",
    "        # From unzipping rawdata/msd_average_user_profiles_data.zip\n",
    "        with open('../rawdata/msd_average_user_profiles.json', 'r') as f:\n",
    "            average_user_profiles = json.load(f)\n",
    "            \n",
    "        self.user_similarity = sims\n",
    "        self.subset_index_mapping = index_map\n",
    "        self.user_neighborhoods = neighborhoods\n",
    "        \n",
    "        self.all_track_features = all_track_features\n",
    "        self.user_setlists = user_setlists\n",
    "        self.average_user_profiles = average_user_profiles\n",
    "        \n",
    "    # Define a user's rating of a track as the number of times they listened to it\n",
    "    # If they haven't listened to it, define rating as the similarity (i.e. inverse distance) between the user's average profile and the track's features\n",
    "    def __user_rating(self, user_id, track_id):\n",
    "        if track_id in self.user_setlists[user_id]:\n",
    "            return self.user_setlists[user_id][track_id]\n",
    "        else:\n",
    "            user_avg_features = self.average_user_profiles[user_id]\n",
    "            track_features = self.all_track_features[track_id]\n",
    "            \n",
    "            # Cosine similarity between features\n",
    "            distance = np.linalg.norm(np.array(list(user_avg_features.values())) - np.array(list(track_features.values())))\n",
    "            \n",
    "            return 1 / (1 + distance)   \n",
    "\n",
    "    def predict_rating(self, user_id: str, track_id: str):\n",
    "        user_index = self.subset_index_mapping[user_id]\n",
    "        neighborhood = self.user_neighborhoods[user_id]\n",
    "        \n",
    "        neighborhood_ratings = [self.__user_rating(neighbor, track_id) for neighbor in neighborhood]\n",
    "        \n",
    "        similarities = [self.user_similarity[user_index][self.subset_index_mapping[neighbor]] for neighbor in neighborhood]\n",
    "        \n",
    "        num = np.dot(similarities, neighborhood_ratings)\n",
    "        den = np.abs(similarities).sum()\n",
    "        \n",
    "        if num == 0 or den == 0:\n",
    "            return 0\n",
    "\n",
    "        return num / den"
   ]
  },
  {
   "cell_type": "code",
   "execution_count": null,
   "metadata": {},
   "outputs": [],
   "source": [
    "# Replace with the name of the folder in with actual model data in `saved_models`\n",
    "model = HybridCF('...')"
   ]
  },
  {
   "cell_type": "code",
   "execution_count": null,
   "metadata": {},
   "outputs": [
    {
     "data": {
      "text/plain": [
       "0.5856058792527399"
      ]
     },
     "execution_count": 7,
     "metadata": {},
     "output_type": "execute_result"
    }
   ],
   "source": [
    "model.predict_rating('2b9f1988e20dc4ca00f3e702b32260f58d7b6daa', 'TRBGWWM12903CCE627')"
   ]
  }
 ],
 "metadata": {
  "kernelspec": {
   "display_name": "3.11.6",
   "language": "python",
   "name": "python3"
  },
  "language_info": {
   "codemirror_mode": {
    "name": "ipython",
    "version": 3
   },
   "file_extension": ".py",
   "mimetype": "text/x-python",
   "name": "python",
   "nbconvert_exporter": "python",
   "pygments_lexer": "ipython3",
   "version": "3.11.6"
  }
 },
 "nbformat": 4,
 "nbformat_minor": 2
}
