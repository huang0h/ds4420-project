{
 "cells": [
  {
   "cell_type": "code",
   "execution_count": 2,
   "metadata": {},
   "outputs": [],
   "source": [
    "import json"
   ]
  },
  {
   "cell_type": "code",
   "execution_count": 4,
   "metadata": {},
   "outputs": [],
   "source": [
    "with open('../rawdata/msd_taste_profile.json', 'r') as f:\n",
    "    taste_profile = json.load(f)\n",
    "\n",
    "with open('../rawdata/msd_mxm_merged_features.json', 'r') as f:\n",
    "    merged_features = json.load(f)"
   ]
  },
  {
   "cell_type": "code",
   "execution_count": 6,
   "metadata": {},
   "outputs": [
    {
     "data": {
      "text/plain": [
       "2201"
      ]
     },
     "execution_count": 6,
     "metadata": {},
     "output_type": "execute_result"
    }
   ],
   "source": [
    "merged_features.pop('all_lyrics')\n",
    "ALL_SONGS = merged_features.keys()\n",
    "len(ALL_SONGS)"
   ]
  },
  {
   "cell_type": "code",
   "execution_count": 8,
   "metadata": {},
   "outputs": [],
   "source": [
    "ALL_SONGS = set(ALL_SONGS)"
   ]
  },
  {
   "cell_type": "code",
   "execution_count": 9,
   "metadata": {},
   "outputs": [],
   "source": [
    "filtered_profile = {}\n",
    "\n",
    "for uid, songs in taste_profile.items():\n",
    "    filtered_songs = []\n",
    "    for song in songs:\n",
    "        if song['track'][0] in ALL_SONGS:\n",
    "            filtered_songs.append({ 'track': song['track'][0], 'count': int(song['count']) })\n",
    "    \n",
    "    if len(filtered_songs) > 0:\n",
    "        filtered_profile[uid] = filtered_songs"
   ]
  },
  {
   "cell_type": "code",
   "execution_count": 10,
   "metadata": {},
   "outputs": [
    {
     "data": {
      "text/plain": [
       "225495"
      ]
     },
     "execution_count": 10,
     "metadata": {},
     "output_type": "execute_result"
    }
   ],
   "source": [
    "len(filtered_profile)"
   ]
  },
  {
   "cell_type": "code",
   "execution_count": 11,
   "metadata": {},
   "outputs": [],
   "source": [
    "with open('../rawdata/msd_taste_profile_filtered.json', 'w') as f:\n",
    "    json.dump(filtered_profile, f)"
   ]
  },
  {
   "cell_type": "code",
   "execution_count": 12,
   "metadata": {},
   "outputs": [],
   "source": [
    "with open('../rawdata/msd_taste_profile.json', 'r') as f:\n",
    "    taste_profile = json.load(f)\n",
    "\n",
    "with open('../rawdata/msd_subset_audio_features.json', 'r') as f:\n",
    "    merged_features = json.load(f)"
   ]
  },
  {
   "cell_type": "code",
   "execution_count": 13,
   "metadata": {},
   "outputs": [
    {
     "data": {
      "text/plain": [
       "10000"
      ]
     },
     "execution_count": 13,
     "metadata": {},
     "output_type": "execute_result"
    }
   ],
   "source": [
    "ALL_SONGS = merged_features.keys()\n",
    "len(ALL_SONGS)"
   ]
  },
  {
   "cell_type": "code",
   "execution_count": 16,
   "metadata": {},
   "outputs": [],
   "source": [
    "filtered_profile = {}\n",
    "\n",
    "for uid, songs in taste_profile.items():\n",
    "    filtered_songs = []\n",
    "    for song in songs:\n",
    "        if song['track'][0] in ALL_SONGS:\n",
    "            filtered_songs.append({ 'track': song['track'][0], 'count': int(song['count']) })\n",
    "    \n",
    "    if len(filtered_songs) > 0:\n",
    "        filtered_profile[uid] = filtered_songs"
   ]
  },
  {
   "cell_type": "code",
   "execution_count": null,
   "metadata": {},
   "outputs": [],
   "source": [
    "filtered_profile"
   ]
  },
  {
   "cell_type": "code",
   "execution_count": 18,
   "metadata": {},
   "outputs": [],
   "source": [
    "with open('../rawdata/msd_taste_profile_no-lyrics.json', 'w') as f:\n",
    "    json.dump(filtered_profile, f)"
   ]
  }
 ],
 "metadata": {
  "kernelspec": {
   "display_name": "3.11.6",
   "language": "python",
   "name": "python3"
  },
  "language_info": {
   "codemirror_mode": {
    "name": "ipython",
    "version": 3
   },
   "file_extension": ".py",
   "mimetype": "text/x-python",
   "name": "python",
   "nbconvert_exporter": "python",
   "pygments_lexer": "ipython3",
   "version": "3.11.6"
  }
 },
 "nbformat": 4,
 "nbformat_minor": 2
}
