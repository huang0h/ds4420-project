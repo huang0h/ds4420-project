{
 "cells": [
  {
   "cell_type": "code",
   "execution_count": 2,
   "metadata": {},
   "outputs": [],
   "source": [
    "import json, os, sys\n",
    "import numpy as np\n",
    "from utils import *"
   ]
  },
  {
   "cell_type": "code",
   "execution_count": 3,
   "metadata": {},
   "outputs": [],
   "source": [
    "with open('../rawdata/msd_mxm_merged_features.json', 'r') as f:\n",
    "    merged_features_raw = json.load(f)\n",
    "\n",
    "with open('../rawdata/msd_taste_profile_filtered.json', 'r') as f:\n",
    "    taste_profile_raw = json.load(f)"
   ]
  },
  {
   "cell_type": "code",
   "execution_count": 4,
   "metadata": {},
   "outputs": [
    {
     "data": {
      "text/plain": [
       "(2202, 225495)"
      ]
     },
     "execution_count": 4,
     "metadata": {},
     "output_type": "execute_result"
    }
   ],
   "source": [
    "len(merged_features_raw), len(taste_profile_raw)"
   ]
  },
  {
   "cell_type": "code",
   "execution_count": 5,
   "metadata": {},
   "outputs": [
    {
     "data": {
      "text/plain": [
       "5000"
      ]
     },
     "execution_count": 5,
     "metadata": {},
     "output_type": "execute_result"
    }
   ],
   "source": [
    "all_lyrics = merged_features_raw.pop('all_lyrics')\n",
    "len(all_lyrics)"
   ]
  },
  {
   "cell_type": "code",
   "execution_count": 6,
   "metadata": {},
   "outputs": [
    {
     "data": {
      "text/plain": [
       "({'duration': 978.442,\n",
       "  'key': 11.0,\n",
       "  'key_confidence': 1.0,\n",
       "  'mode': 1.0,\n",
       "  'mode_confidence': 1.0,\n",
       "  'loudness': -1.674,\n",
       "  'tempo': 253.357,\n",
       "  'time_signature': 7.0,\n",
       "  'time_signature_confidence': 1.0},\n",
       " {'duration': 1.04444,\n",
       "  'key': 0.0,\n",
       "  'key_confidence': 0.0,\n",
       "  'mode': 0.0,\n",
       "  'mode_confidence': 0.0,\n",
       "  'loudness': -32.742,\n",
       "  'tempo': 0.0,\n",
       "  'time_signature': 0.0,\n",
       "  'time_signature_confidence': 0.0})"
      ]
     },
     "execution_count": 6,
     "metadata": {},
     "output_type": "execute_result"
    }
   ],
   "source": [
    "# Normalize content features to [0, 1]\n",
    "max_features = {\n",
    "    'duration': -np.inf,\n",
    "    'key': -np.inf,\n",
    "    'key_confidence': -np.inf,\n",
    "    'mode': -np.inf,\n",
    "    'mode_confidence': -np.inf,\n",
    "    'loudness': -np.inf,\n",
    "    'tempo': -np.inf,\n",
    "    'time_signature': -np.inf,\n",
    "    'time_signature_confidence': -np.inf,\n",
    "}\n",
    "\n",
    "min_features = {\n",
    "    'duration': np.inf,\n",
    "    'key': np.inf,\n",
    "    'key_confidence': np.inf,\n",
    "    'mode': np.inf,\n",
    "    'mode_confidence': np.inf,\n",
    "    'loudness': np.inf,\n",
    "    'tempo': np.inf,\n",
    "    'time_signature': np.inf,\n",
    "    'time_signature_confidence': np.inf,\n",
    "}\n",
    "\n",
    "for _, features in merged_features_raw.items():\n",
    "    for feature, value in features.items():\n",
    "        if feature in max_features:\n",
    "            max_features[feature] = max(max_features[feature], value)\n",
    "            min_features[feature] = min(min_features[feature], value)\n",
    "            \n",
    "max_features, min_features"
   ]
  },
  {
   "cell_type": "code",
   "execution_count": 7,
   "metadata": {},
   "outputs": [],
   "source": [
    "def process_features(features):\n",
    "    # Filter out unrecognized features\n",
    "    feature_subset = { feature_name: features[feature_name] for feature_name in max_features }\n",
    "    \n",
    "    # Normalize recognized features\n",
    "    for feature, value in feature_subset.items():\n",
    "        if feature in max_features:\n",
    "            feature_subset[feature] = (value - min_features[feature]) / (max_features[feature] - min_features[feature])\n",
    "            \n",
    "    # Vectorize lyrics\n",
    "    lyrics = features['lyrics']\n",
    "    lyric_vector = np.zeros(len(all_lyrics), dtype=int)\n",
    "    \n",
    "    for word, count in lyrics.items():\n",
    "        lyric_vector[int(word)] = count\n",
    "    \n",
    "    feature_subset['lyrics'] = lyric_vector\n",
    "\n",
    "    return feature_subset"
   ]
  },
  {
   "cell_type": "code",
   "execution_count": 8,
   "metadata": {},
   "outputs": [],
   "source": [
    "merged_features_processed = { track_id: process_features(features) for track_id, features in merged_features_raw.items() }"
   ]
  },
  {
   "cell_type": "code",
   "execution_count": 5,
   "metadata": {},
   "outputs": [
    {
     "data": {
      "text/plain": [
       "326620"
      ]
     },
     "execution_count": 5,
     "metadata": {},
     "output_type": "execute_result"
    }
   ],
   "source": [
    "track_count = 0\n",
    "for _, tracks in taste_profile_raw.items():\n",
    "    track_count += len(tracks)\n",
    "track_count"
   ]
  },
  {
   "cell_type": "code",
   "execution_count": 23,
   "metadata": {},
   "outputs": [
    {
     "name": "stdout",
     "output_type": "stream",
     "text": [
      "(225495, 5000)\n",
      "123000\r"
     ]
    },
    {
     "ename": "",
     "evalue": "",
     "output_type": "error",
     "traceback": [
      "\u001b[1;31mThe Kernel crashed while executing code in the current cell or a previous cell. \n",
      "\u001b[1;31mPlease review the code in the cell(s) to identify a possible cause of the failure. \n",
      "\u001b[1;31mClick <a href='https://aka.ms/vscodeJupyterKernelCrash'>here</a> for more info. \n",
      "\u001b[1;31mView Jupyter <a href='command:jupyter.viewOutput'>log</a> for further details."
     ]
    }
   ],
   "source": [
    "average_user_profiles = {}\n",
    "user_setlists = {}\n",
    "user_id_mapping = {}\n",
    "user_count = 0\n",
    "\n",
    "lyrics_size = len(all_lyrics)\n",
    "lyric_vectors = np.zeros((len(taste_profile_raw.keys()), lyrics_size))\n",
    "print(lyric_vectors.shape)\n",
    "for i, (user_id, tracklist) in enumerate(taste_profile_raw.items()):\n",
    "    if i % 500 == 0:\n",
    "        print(i, end='\\r')\n",
    "    \n",
    "    user_id_mapping[user_id] = user_count\n",
    "    user_count += 1\n",
    "        \n",
    "    initial = {\n",
    "        'duration': 0,\n",
    "        'key': 0,\n",
    "        'key_confidence': 0,\n",
    "        'mode': 0,\n",
    "        'mode_confidence': 0,\n",
    "        'loudness': 0,\n",
    "        'tempo': 0,\n",
    "        'time_signature': 0,\n",
    "        'time_signature_confidence': 0,\n",
    "    }\n",
    "    \n",
    "    user_setlists[user_id] = {}\n",
    "    \n",
    "    # Generate weighted average of features\n",
    "    total_track_counts = 0\n",
    "    \n",
    "    for track in tracklist:\n",
    "        track_id, count = track['track'], track['count']\n",
    "        if track_id not in merged_features_processed:\n",
    "            raise 'AAAAA'\n",
    "        \n",
    "        total_track_counts += count\n",
    "        user_setlists[user_id][track_id] = count\n",
    "        \n",
    "        track_features = merged_features_processed[track_id]\n",
    "        for feature, value in track_features.items():\n",
    "            if feature != 'lyrics':\n",
    "                initial[feature] += value * count\n",
    "            else:\n",
    "                lyric_vectors[user_id_mapping[user_id]] += value * count\n",
    "            \n",
    "    for feature in initial:\n",
    "        initial[feature] /= total_track_counts\n",
    "    \n",
    "    lyric_vectors[user_id_mapping[user_id]] /= total_track_counts\n",
    "    \n",
    "    average_user_profiles[user_id] = initial"
   ]
  },
  {
   "cell_type": "code",
   "execution_count": 13,
   "metadata": {},
   "outputs": [
    {
     "data": {
      "text/plain": [
       "(5000,)"
      ]
     },
     "execution_count": 13,
     "metadata": {},
     "output_type": "execute_result"
    }
   ],
   "source": [
    "np.zeros((len(average_user_profiles), lyrics_size))[0].shape"
   ]
  },
  {
   "cell_type": "code",
   "execution_count": null,
   "metadata": {},
   "outputs": [
    {
     "data": {
      "text/plain": [
       "225495"
      ]
     },
     "execution_count": 9,
     "metadata": {},
     "output_type": "execute_result"
    }
   ],
   "source": [
    "len(taste_profile_raw)"
   ]
  },
  {
   "cell_type": "code",
   "execution_count": null,
   "metadata": {},
   "outputs": [
    {
     "data": {
      "text/plain": [
       "array([2.11256306, 0.21351618, 0.65725724, 2.63948283, 0.23207305])"
      ]
     },
     "execution_count": 19,
     "metadata": {},
     "output_type": "execute_result"
    }
   ],
   "source": [
    "n = np.random.rand(5)\n",
    "n + (n * 5) / 3"
   ]
  },
  {
   "cell_type": "markdown",
   "metadata": {},
   "source": [
    "todo:\n",
    "- generate avg. user profiles\n",
    "- write sim scores for songs\n",
    "- do it all"
   ]
  },
  {
   "cell_type": "code",
   "execution_count": null,
   "metadata": {},
   "outputs": [],
   "source": []
  }
 ],
 "metadata": {
  "kernelspec": {
   "display_name": "3.11.6",
   "language": "python",
   "name": "python3"
  },
  "language_info": {
   "codemirror_mode": {
    "name": "ipython",
    "version": 3
   },
   "file_extension": ".py",
   "mimetype": "text/x-python",
   "name": "python",
   "nbconvert_exporter": "python",
   "pygments_lexer": "ipython3",
   "version": "3.11.6"
  }
 },
 "nbformat": 4,
 "nbformat_minor": 2
}
