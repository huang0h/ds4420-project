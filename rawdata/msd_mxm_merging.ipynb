{
 "cells": [
  {
   "cell_type": "code",
   "execution_count": 13,
   "metadata": {},
   "outputs": [],
   "source": [
    "import json"
   ]
  },
  {
   "cell_type": "code",
   "execution_count": 1,
   "metadata": {},
   "outputs": [],
   "source": [
    "with open('mxm_dataset_test.txt', 'r') as test, open('mxm_dataset_train.txt', 'r') as train:\n",
    "    test_lines = test.readlines()\n",
    "    train_lines = train.readlines()"
   ]
  },
  {
   "cell_type": "code",
   "execution_count": 28,
   "metadata": {},
   "outputs": [],
   "source": [
    "def parse_dataset(lines: list[str]):\n",
    "    parsed_tracks = {}\n",
    "    \n",
    "    for line in lines:\n",
    "        if line[0] == '#':\n",
    "            continue\n",
    "        \n",
    "        if line[0] == '%':\n",
    "            words = line[1:].split(',')\n",
    "            continue\n",
    "        \n",
    "        msd_id, mxm_id, *bow_lyrics = line.split(',')\n",
    "        \n",
    "        parsed_lyrics = [bow_lyric.split(':') for bow_lyric in bow_lyrics]\n",
    "        parsed_tracks[msd_id] = { \"mxm_id\": int(mxm_id), \"lyrics\": { word_id: int(word_count) for word_id, word_count in parsed_lyrics }  }\n",
    "        \n",
    "    return words, parsed_tracks"
   ]
  },
  {
   "cell_type": "code",
   "execution_count": 29,
   "metadata": {},
   "outputs": [],
   "source": [
    "words, parsed_test = parse_dataset(test_lines)\n",
    "_, parsed_train = parse_dataset(train_lines)\n",
    "\n",
    "all_mxm = {**parsed_test, **parsed_train}"
   ]
  },
  {
   "cell_type": "code",
   "execution_count": 31,
   "metadata": {},
   "outputs": [],
   "source": [
    "with open('msd_subset_audio_features.json', 'r') as msd:\n",
    "    msd_data = json.load(msd)\n",
    "    \n",
    "merged_data = {}\n",
    "for msd_id, feats in msd_data.items():\n",
    "    if msd_id not in all_mxm:\n",
    "        continue\n",
    "    \n",
    "    mxm_feats = all_mxm[msd_id]\n",
    "    merged_data[msd_id] = {**feats, **mxm_feats}\n"
   ]
  },
  {
   "cell_type": "code",
   "execution_count": 33,
   "metadata": {},
   "outputs": [],
   "source": [
    "merged_data['all_lyrics'] = words\n",
    "\n",
    "with open('msd_mxm_merged_features.json', 'w') as f:\n",
    "    json.dump(merged_data, f)"
   ]
  },
  {
   "cell_type": "code",
   "execution_count": null,
   "metadata": {},
   "outputs": [],
   "source": [
    "with open('mxm_all_lyrics.json', 'w') as f:\n",
    "    json.dump(all_mxm, f)"
   ]
  }
 ],
 "metadata": {
  "kernelspec": {
   "display_name": "3.11.6",
   "language": "python",
   "name": "python3"
  },
  "language_info": {
   "codemirror_mode": {
    "name": "ipython",
    "version": 3
   },
   "file_extension": ".py",
   "mimetype": "text/x-python",
   "name": "python",
   "nbconvert_exporter": "python",
   "pygments_lexer": "ipython3",
   "version": "3.11.6"
  }
 },
 "nbformat": 4,
 "nbformat_minor": 2
}
