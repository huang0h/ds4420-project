{
 "cells": [
  {
   "cell_type": "markdown",
   "metadata": {},
   "source": [
    "## Import Packages:\n",
    "Please import the following packages to run the NCF model."
   ]
  },
  {
   "cell_type": "code",
   "execution_count": null,
   "metadata": {},
   "outputs": [],
   "source": [
    "import tensorflow as tf\n",
    "import numpy as np\n",
    "import pandas as pd\n",
    "## The path to the NCF model may be different for your case.\n",
    "import models.ncf_model as ncf\n",
    "import random"
   ]
  },
  {
   "cell_type": "markdown",
   "metadata": {},
   "source": [
    "## Load and Preprocess Dataset:\n",
    "For this notebook, I'll use the full interaction csv file you gave me. "
   ]
  },
  {
   "cell_type": "code",
   "execution_count": 3,
   "metadata": {},
   "outputs": [],
   "source": [
    "## Load in the dataset.\n",
    "df = pd.read_csv('interactions.csv')\n",
    "\n",
    "## Conver the number of counts to 1.\n",
    "df['liked'] = (df['count'] > 0).astype(int)"
   ]
  },
  {
   "cell_type": "code",
   "execution_count": 4,
   "metadata": {},
   "outputs": [],
   "source": [
    "## Create the numerical mappings for user ids.\n",
    "user_mapping = {}\n",
    "for index, user_id in enumerate(df['user'].unique()):\n",
    "    user_mapping[user_id] = index\n",
    "\n",
    "## Create the numerical mappings for song ids.\n",
    "song_mapping = {}\n",
    "for index, song_id in enumerate(df['track'].unique()):\n",
    "    song_mapping[song_id] = index\n",
    "\n",
    "## Map the raw user and song ids to the created numerical values.\n",
    "df['user_id'] = df['user'].map(user_mapping)\n",
    "df['song_id'] = df['track'].map(song_mapping)"
   ]
  },
  {
   "cell_type": "code",
   "execution_count": null,
   "metadata": {},
   "outputs": [
    {
     "data": {
      "text/html": [
       "<div>\n",
       "<style scoped>\n",
       "    .dataframe tbody tr th:only-of-type {\n",
       "        vertical-align: middle;\n",
       "    }\n",
       "\n",
       "    .dataframe tbody tr th {\n",
       "        vertical-align: top;\n",
       "    }\n",
       "\n",
       "    .dataframe thead th {\n",
       "        text-align: right;\n",
       "    }\n",
       "</style>\n",
       "<table border=\"1\" class=\"dataframe\">\n",
       "  <thead>\n",
       "    <tr style=\"text-align: right;\">\n",
       "      <th></th>\n",
       "      <th>user</th>\n",
       "      <th>track</th>\n",
       "      <th>count</th>\n",
       "      <th>liked</th>\n",
       "      <th>user_id</th>\n",
       "      <th>song_id</th>\n",
       "    </tr>\n",
       "  </thead>\n",
       "  <tbody>\n",
       "    <tr>\n",
       "      <th>0</th>\n",
       "      <td>b80344d063b5ccb3212f76538f3d9e43d87dca9e</td>\n",
       "      <td>TRAUCNU128F42671EB</td>\n",
       "      <td>1</td>\n",
       "      <td>1</td>\n",
       "      <td>0</td>\n",
       "      <td>0</td>\n",
       "    </tr>\n",
       "    <tr>\n",
       "      <th>1</th>\n",
       "      <td>4bd88bfb25263a75bbdd467e74018f4ae570e5df</td>\n",
       "      <td>TRBFXMJ12903CB50F6</td>\n",
       "      <td>2</td>\n",
       "      <td>1</td>\n",
       "      <td>1</td>\n",
       "      <td>1</td>\n",
       "    </tr>\n",
       "    <tr>\n",
       "      <th>2</th>\n",
       "      <td>4bd88bfb25263a75bbdd467e74018f4ae570e5df</td>\n",
       "      <td>TRBBMHE128EF341D09</td>\n",
       "      <td>18</td>\n",
       "      <td>1</td>\n",
       "      <td>1</td>\n",
       "      <td>2</td>\n",
       "    </tr>\n",
       "    <tr>\n",
       "      <th>3</th>\n",
       "      <td>b64cdd1a0bd907e5e00b39e345194768e330d652</td>\n",
       "      <td>TRAUURC128E078EC6E</td>\n",
       "      <td>1</td>\n",
       "      <td>1</td>\n",
       "      <td>2</td>\n",
       "      <td>3</td>\n",
       "    </tr>\n",
       "    <tr>\n",
       "      <th>4</th>\n",
       "      <td>b64cdd1a0bd907e5e00b39e345194768e330d652</td>\n",
       "      <td>TRAQVTO128F14696A6</td>\n",
       "      <td>4</td>\n",
       "      <td>1</td>\n",
       "      <td>2</td>\n",
       "      <td>4</td>\n",
       "    </tr>\n",
       "  </tbody>\n",
       "</table>\n",
       "</div>"
      ],
      "text/plain": [
       "                                       user               track  count  liked  \\\n",
       "0  b80344d063b5ccb3212f76538f3d9e43d87dca9e  TRAUCNU128F42671EB      1      1   \n",
       "1  4bd88bfb25263a75bbdd467e74018f4ae570e5df  TRBFXMJ12903CB50F6      2      1   \n",
       "2  4bd88bfb25263a75bbdd467e74018f4ae570e5df  TRBBMHE128EF341D09     18      1   \n",
       "3  b64cdd1a0bd907e5e00b39e345194768e330d652  TRAUURC128E078EC6E      1      1   \n",
       "4  b64cdd1a0bd907e5e00b39e345194768e330d652  TRAQVTO128F14696A6      4      1   \n",
       "\n",
       "   user_id  song_id  \n",
       "0        0        0  \n",
       "1        1        1  \n",
       "2        1        2  \n",
       "3        2        3  \n",
       "4        2        4  "
      ]
     },
     "execution_count": 6,
     "metadata": {},
     "output_type": "execute_result"
    }
   ],
   "source": [
    "## Check the first five rows in the DataFrame.\n",
    "df.head(5)"
   ]
  },
  {
   "cell_type": "markdown",
   "metadata": {},
   "source": [
    "## Load in the NCF Model:\n",
    "We now need to initialize the NCF model. These parameters were used to the train the model. "
   ]
  },
  {
   "cell_type": "code",
   "execution_count": 7,
   "metadata": {},
   "outputs": [],
   "source": [
    "## Determine the total number of unique users.\n",
    "num_users = df['user_id'].nunique()\n",
    "## Determine the total number of unique songs.\n",
    "num_items = df['song_id'].nunique()\n",
    "## Determine the number of latent features.\n",
    "num_latent = 8"
   ]
  },
  {
   "cell_type": "code",
   "execution_count": 9,
   "metadata": {},
   "outputs": [],
   "source": [
    "## Initalize the NCF model.\n",
    "ncf_model = ncf.NCFModel(num_users, num_items, num_latent)"
   ]
  },
  {
   "cell_type": "code",
   "execution_count": 10,
   "metadata": {},
   "outputs": [],
   "source": [
    "## Pass through random inputs to initialize the weights in the model.\n",
    "ncf_model(np.array([np.array([0]), np.array([1])]))\n",
    "\n",
    "## Now load in the trained weights from the MSD dataset.\n",
    "ncf_model.load_weights('ncf_msd_weights.h5')"
   ]
  },
  {
   "cell_type": "markdown",
   "metadata": {},
   "source": [
    "We can now try inputting random user and song interaction to get a predicted interaction score."
   ]
  },
  {
   "cell_type": "code",
   "execution_count": 47,
   "metadata": {},
   "outputs": [
    {
     "name": "stdout",
     "output_type": "stream",
     "text": [
      "Predicted Interaction: 0.970494270324707\n"
     ]
    }
   ],
   "source": [
    "## Choose a random index to evaluate model on.\n",
    "rand_index = random.choice(df.index)\n",
    "\n",
    "## Extract the users and songs from this row.\n",
    "user_test = np.array([df.iloc[rand_index]['user_id']])\n",
    "song_test = np.array([df.iloc[rand_index]['song_id']])\n",
    "\n",
    "## Create interaction array for both user and song.\n",
    "user_song = [user_test, song_test]\n",
    "\n",
    "## Input the interaction into the model to get a predicted interaction score.\n",
    "pred_score = ncf_model.predict(user_song, verbose = 0).item()\n",
    "print(f'Predicted Interaction: {pred_score}')"
   ]
  },
  {
   "cell_type": "markdown",
   "metadata": {},
   "source": [
    "We can also do several interactions."
   ]
  },
  {
   "cell_type": "code",
   "execution_count": 52,
   "metadata": {},
   "outputs": [
    {
     "name": "stdout",
     "output_type": "stream",
     "text": [
      "[[0.8547122 ]\n",
      " [0.74516106]\n",
      " [0.89123875]\n",
      " [0.65115595]\n",
      " [0.18540075]\n",
      " [0.03878032]\n",
      " [0.19459079]\n",
      " [0.0976558 ]\n",
      " [0.7819531 ]\n",
      " [0.3167414 ]]\n"
     ]
    }
   ],
   "source": [
    "## Choose 10 random indices to evaluate model on.\n",
    "rand_indices = random.sample(list(df.index), 10)\n",
    "\n",
    "## Extract the users and songs from these rows.\n",
    "user_tests = []\n",
    "song_tests = []\n",
    "\n",
    "for i in rand_indices:\n",
    "    ## Get the users and items for specific row.\n",
    "    user_temp = df.iloc[i]['user_id']\n",
    "    song_temp = df.iloc[i]['song_id']\n",
    "    \n",
    "    ## Append the ids to their respective list.\n",
    "    user_tests.append(user_temp)\n",
    "    song_tests.append(song_temp)\n",
    "\n",
    "## Convert the lists into numpy arrays.\n",
    "user_tests = np.array(user_tests)\n",
    "song_tests = np.array(song_tests)\n",
    "\n",
    "## Create an interaction array for each user and song.\n",
    "users_songs = [user_tests, song_tests]\n",
    "\n",
    "## Input the interactions into the model and print out each predicted score.\n",
    "pred_scores = ncf_model.predict(users_songs, verbose = 0)\n",
    "print(pred_scores)"
   ]
  }
 ],
 "metadata": {
  "kernelspec": {
   "display_name": "ncfenv",
   "language": "python",
   "name": "python3"
  },
  "language_info": {
   "codemirror_mode": {
    "name": "ipython",
    "version": 3
   },
   "file_extension": ".py",
   "mimetype": "text/x-python",
   "name": "python",
   "nbconvert_exporter": "python",
   "pygments_lexer": "ipython3",
   "version": "3.10.15"
  }
 },
 "nbformat": 4,
 "nbformat_minor": 2
}
